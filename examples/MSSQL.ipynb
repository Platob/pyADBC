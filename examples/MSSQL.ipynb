{
 "cells": [
  {
   "cell_type": "code",
   "execution_count": null,
   "id": "736e1bd4-37fc-45d6-92d7-61fb8b7fa2cf",
   "metadata": {},
   "outputs": [],
   "source": [
    "from adbc.mssql import *\n",
    "odbc_uri = \"Server=localhost\\SQLEXPRESS01;Database=master;DRIVER={ODBC Driver 18 for SQL Server};Trusted_Connection=yes;TrustServerCertificate=YES;\"\n",
    "s = MSSQL(odbc_uri)"
   ]
  },
  {
   "cell_type": "markdown",
   "id": "3ae39584-67a0-4099-bb65-26f84cd249f7",
   "metadata": {},
   "source": [
    "# Read\n",
    "\n",
    "Can be read only 1 time from SQL Database, need to reexecute if stream is consumed, or persist it"
   ]
  },
  {
   "cell_type": "code",
   "execution_count": null,
   "id": "7b35a30a-d39d-437d-9011-557a02f3ba29",
   "metadata": {},
   "outputs": [],
   "source": [
    "batch_reader = s.arrow_batches(\n",
    "    \"select top 5 * from PYMSA_UNITTEST\",\n",
    "    batch_size=65536,\n",
    "    max_text_size=256, max_binary_size=256,\n",
    "    lazy=True # make recallable stream, can be called several times\n",
    ")"
   ]
  },
  {
   "cell_type": "code",
   "execution_count": null,
   "id": "d099cab2-7832-41f7-ac9e-c312396f1456",
   "metadata": {},
   "outputs": [],
   "source": [
    "batch_reader.read_all()"
   ]
  },
  {
   "cell_type": "markdown",
   "id": "56494195-328c-4435-b8a3-cc4818bb6f7b",
   "metadata": {},
   "source": [
    "# Write"
   ]
  },
  {
   "cell_type": "markdown",
   "id": "4c539d89-d627-4bf2-be34-79da91cc0b2d",
   "metadata": {},
   "source": [
    "## Table Writer"
   ]
  },
  {
   "cell_type": "code",
   "execution_count": null,
   "id": "f16ee60a-1113-41b6-a981-d4bc3fce6a55",
   "metadata": {},
   "outputs": [],
   "source": [
    "writer = s.write(\"PYMSA_UNITTEST\")"
   ]
  },
  {
   "cell_type": "markdown",
   "id": "f4e24d54-e9d4-4dfb-a68d-fac539305bd3",
   "metadata": {},
   "source": [
    "Write BatchReader in Writer"
   ]
  },
  {
   "cell_type": "code",
   "execution_count": null,
   "id": "a60c89ad-0eef-49fe-98a1-22ebc78d6338",
   "metadata": {},
   "outputs": [],
   "source": [
    "writer.write_batches(batch_reader, chunk_size=10, cast=True)"
   ]
  },
  {
   "cell_type": "code",
   "execution_count": null,
   "id": "f9da1151-0e19-4742-87c1-00b9ec121a38",
   "metadata": {},
   "outputs": [],
   "source": [
    "s.arrow_batches(\n",
    "    \"select * from PYMSA_UNITTEST\",\n",
    "    batch_size=65536,\n",
    "    max_text_size=256, max_binary_size=256\n",
    ").read_all().to_pandas()"
   ]
  },
  {
   "cell_type": "code",
   "execution_count": null,
   "id": "a7fac262-1d71-47ea-9935-b1bb714249ed",
   "metadata": {},
   "outputs": [],
   "source": []
  }
 ],
 "metadata": {
  "kernelspec": {
   "display_name": "Python 3 (ipykernel)",
   "language": "python",
   "name": "python3"
  },
  "language_info": {
   "codemirror_mode": {
    "name": "ipython",
    "version": 3
   },
   "file_extension": ".py",
   "mimetype": "text/x-python",
   "name": "python",
   "nbconvert_exporter": "python",
   "pygments_lexer": "ipython3",
   "version": "3.9.12"
  }
 },
 "nbformat": 4,
 "nbformat_minor": 5
}
