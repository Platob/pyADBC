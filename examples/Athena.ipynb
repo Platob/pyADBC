{
 "cells": [
  {
   "cell_type": "code",
   "execution_count": null,
   "id": "3369d1f9-3235-41bb-ae08-7f1ae518f8f4",
   "metadata": {},
   "outputs": [],
   "source": [
    "from adbc.reader import BatchReader\n",
    "from adbc.athena import Athena\n",
    "import pyarrow as pa\n",
    "s = Athena(\"eu-west-1\", profile_name=\"default\")"
   ]
  },
  {
   "cell_type": "code",
   "execution_count": null,
   "id": "6b15b671-7abf-4ffb-b1f8-d3dd1c5daa12",
   "metadata": {},
   "outputs": [],
   "source": [
    "s.table_metadata(\"name\", catalog=\"AwsDataCatalog\", schema=\"database\")"
   ]
  },
  {
   "cell_type": "code",
   "execution_count": null,
   "id": "410c8020-3afe-416c-b0df-2d687b720c77",
   "metadata": {},
   "outputs": [],
   "source": [
    "w = s.write(\"name\", schema=\"database\", catalog=\"AwsDataCatalog\", partition_values={\n",
    "    \"year\": \"2023\", \"month\": \"01\", \"day\": \"01\"\n",
    "})\n",
    "w"
   ]
  },
  {
   "cell_type": "code",
   "execution_count": null,
   "id": "28233b78-f574-4676-834b-ad883d562140",
   "metadata": {},
   "outputs": [],
   "source": [
    "w.base_dir, w.partition_by, w.schema_arrow"
   ]
  },
  {
   "cell_type": "code",
   "execution_count": null,
   "id": "40a0754e-d371-4768-aee5-eefed0d67ddf",
   "metadata": {},
   "outputs": [],
   "source": [
    "data = pa.Table.from_pydict({\"0\": list(range(10)), \"underlying\": [\"ABC\" if _ < 4 else \"DEF\" for _ in range(10)]})"
   ]
  },
  {
   "cell_type": "code",
   "execution_count": null,
   "id": "dca3b59f-c977-4820-b578-8a3d04f524e0",
   "metadata": {},
   "outputs": [],
   "source": [
    "for path in w.write_batches(BatchReader.from_arrow(data), append=False):\n",
    "    print(path)"
   ]
  },
  {
   "cell_type": "code",
   "execution_count": null,
   "id": "84813ccf-108c-4fa9-a9d8-acb93106095b",
   "metadata": {},
   "outputs": [],
   "source": [
    "from pyarrow.parquet import read_table\n",
    "read_table(\n",
    "    path, filesystem=s.fs()\n",
    ")"
   ]
  }
 ],
 "metadata": {
  "kernelspec": {
   "display_name": "Python 3 (ipykernel)",
   "language": "python",
   "name": "python3"
  },
  "language_info": {
   "codemirror_mode": {
    "name": "ipython",
    "version": 3
   },
   "file_extension": ".py",
   "mimetype": "text/x-python",
   "name": "python",
   "nbconvert_exporter": "python",
   "pygments_lexer": "ipython3",
   "version": "3.9.12"
  }
 },
 "nbformat": 4,
 "nbformat_minor": 5
}
