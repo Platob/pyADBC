{
 "cells": [
  {
   "cell_type": "code",
   "execution_count": null,
   "id": "185f22dd-2aed-4279-bc74-a398ad278b67",
   "metadata": {},
   "outputs": [],
   "source": [
    "from adbc.reader import BatchReader\n",
    "from adbc.filesystem.local import LocalDataFileSystem\n",
    "import pyarrow as pa\n",
    "s = LocalDataFileSystem()"
   ]
  },
  {
   "cell_type": "code",
   "execution_count": null,
   "id": "43aa6e15-7169-4b4a-9675-98874df9a834",
   "metadata": {},
   "outputs": [],
   "source": [
    "data = pa.Table.from_pydict({\"0\": list(range(10)), \"part\": [\"ABC\" if _ < 4 else \"DEF\" for _ in range(10)]})"
   ]
  },
  {
   "cell_type": "code",
   "execution_count": null,
   "id": "f2ec0ec4-afd3-432c-ad68-da2617f87417",
   "metadata": {},
   "outputs": [],
   "source": [
    "writer = s.write(\"\", base_dir=\"test\", partition_by=[\"part\"])\n",
    "writer.file_extension"
   ]
  },
  {
   "cell_type": "code",
   "execution_count": null,
   "id": "ec6c290d-a331-457d-92e1-25fb47c680a9",
   "metadata": {},
   "outputs": [],
   "source": [
    "for path in writer.write_batches(\n",
    "    BatchReader.from_arrow(data), max_file_rows=3, append=False\n",
    "):\n",
    "    print(path)"
   ]
  },
  {
   "cell_type": "code",
   "execution_count": null,
   "id": "88dc8119-7b9c-4282-b53a-b23616f6491d",
   "metadata": {},
   "outputs": [],
   "source": [
    "for path in s.write(\"\", base_dir=\"test\").write_batches(BatchReader.from_arrow(data), max_file_rows=10, append=True):\n",
    "    print(path)"
   ]
  },
  {
   "cell_type": "code",
   "execution_count": null,
   "id": "488aad6f-7205-442c-89a5-ddd2b182432c",
   "metadata": {},
   "outputs": [],
   "source": [
    "import pyarrow.parquet\n",
    "pyarrow.parquet.read_table(path)"
   ]
  },
  {
   "cell_type": "code",
   "execution_count": null,
   "id": "0f4bc177-f834-4bc1-bcc7-2c36aa4ed5d6",
   "metadata": {},
   "outputs": [],
   "source": []
  }
 ],
 "metadata": {
  "kernelspec": {
   "display_name": "Python 3 (ipykernel)",
   "language": "python",
   "name": "python3"
  },
  "language_info": {
   "codemirror_mode": {
    "name": "ipython",
    "version": 3
   },
   "file_extension": ".py",
   "mimetype": "text/x-python",
   "name": "python",
   "nbconvert_exporter": "python",
   "pygments_lexer": "ipython3",
   "version": "3.9.12"
  }
 },
 "nbformat": 4,
 "nbformat_minor": 5
}
