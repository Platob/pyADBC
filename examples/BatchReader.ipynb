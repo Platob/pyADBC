{
 "cells": [
  {
   "cell_type": "code",
   "execution_count": null,
   "id": "cf127059-7c2d-4872-9cc6-defbbc6a80d8",
   "metadata": {},
   "outputs": [],
   "source": [
    "import pyarrow as pa\n",
    "from adbc.reader import BatchReader, LazyReader"
   ]
  },
  {
   "cell_type": "code",
   "execution_count": null,
   "id": "128abffb-d711-4364-8573-6b1bd9adf793",
   "metadata": {},
   "outputs": [],
   "source": [
    "data = pa.Table.from_pydict({\"0\": list(range(10)), \"part\": [\"ABC\" if _ < 4 else \"DEF\" for _ in range(10)]})"
   ]
  },
  {
   "cell_type": "markdown",
   "id": "f611d601-b2ae-4fd6-9429-f306ec6cab55",
   "metadata": {},
   "source": [
    "# Create"
   ]
  },
  {
   "cell_type": "markdown",
   "id": "1a2cfdd0-ddb5-4f3d-86b8-da9f61a53067",
   "metadata": {},
   "source": [
    "## Stream batch reader\n",
    "\n",
    "Will simply iterate over batches, default should be considered as stream readable only 1 time"
   ]
  },
  {
   "cell_type": "code",
   "execution_count": null,
   "id": "153a5f70-78b4-4421-bde9-e3aabd98defb",
   "metadata": {},
   "outputs": [],
   "source": [
    "reader = BatchReader.from_arrow(data)\n",
    "reader.read_all()"
   ]
  },
  {
   "cell_type": "markdown",
   "id": "23ba2d95-2f0f-4347-afdf-a7da493e109c",
   "metadata": {},
   "source": [
    "## Lazy\n",
    "\n",
    "Will compute method on each call"
   ]
  },
  {
   "cell_type": "code",
   "execution_count": null,
   "id": "e238d3cf-78f6-4c90-8570-04e62fd99d20",
   "metadata": {},
   "outputs": [],
   "source": [
    "lazy_reader = LazyReader(\n",
    "    lambda arg=None: BatchReader.from_arrow(data),\n",
    "    schema=None\n",
    ")\n",
    "lazy_reader.read_all()"
   ]
  },
  {
   "cell_type": "markdown",
   "id": "9b630e98-ff31-4b46-a3c0-b52f6c1b2e39",
   "metadata": {},
   "source": [
    "## Persist in memory\n",
    "\n",
    "Returns new BatchReader persisted in RAM, usefull for streaming, useless if created from in memory object like pyarrow.Table, pyarrow.RecordBatch"
   ]
  },
  {
   "cell_type": "code",
   "execution_count": null,
   "id": "16932713-c97b-44af-b38d-95e23614e059",
   "metadata": {},
   "outputs": [],
   "source": [
    "persisted = reader.persist()"
   ]
  },
  {
   "cell_type": "markdown",
   "id": "361bed8d-dc76-4bb3-8176-eb507c9f0c0d",
   "metadata": {},
   "source": [
    "## Cast"
   ]
  },
  {
   "cell_type": "markdown",
   "id": "9d3d0ef5-0d1a-4b60-a20c-993cee8b5f62",
   "metadata": {},
   "source": [
    "### Arrow Schema\n",
    "\n",
    "It will select columns, cast types\n",
    "\n",
    "fill_empty: will fill with empty values not found columns if it is nullable\n",
    "\n",
    "drop: will drop schema columns if not found in data"
   ]
  },
  {
   "cell_type": "code",
   "execution_count": null,
   "id": "ac72cd08-54c8-4304-b6b1-e073ea1f89b5",
   "metadata": {},
   "outputs": [],
   "source": [
    "casted = persisted.cast(pa.schema([pa.field(\"0\", pa.int8())]), safe=True, fill_empty=True, drop=False)\n",
    "casted.read_all()"
   ]
  },
  {
   "cell_type": "markdown",
   "id": "19d41025-342b-4b5d-9106-89a36dec3912",
   "metadata": {},
   "source": [
    "### Columns"
   ]
  },
  {
   "cell_type": "code",
   "execution_count": null,
   "id": "086c46d7-0daa-4c5f-b346-68f48e46a7fb",
   "metadata": {},
   "outputs": [],
   "source": [
    "casted = persisted.cast_columns({\n",
    "    \"0\": pa.int16()\n",
    "})\n",
    "casted.read_all()"
   ]
  },
  {
   "cell_type": "markdown",
   "id": "d06ba330-091d-405e-82b6-832d4b5c135a",
   "metadata": {},
   "source": [
    "### Custom datatypes"
   ]
  },
  {
   "cell_type": "code",
   "execution_count": null,
   "id": "2295886c-ac53-4acf-8cf5-d0ed56184d68",
   "metadata": {},
   "outputs": [],
   "source": [
    "from adbc.dtype import ALL_DATATYPES, safe_datatype\n",
    "safe_datatype(\"decimal(38,18)\"), ALL_DATATYPES"
   ]
  },
  {
   "cell_type": "code",
   "execution_count": null,
   "id": "42a3f167-e21a-484e-a7e7-450164c5f81a",
   "metadata": {},
   "outputs": [],
   "source": [
    "casted = persisted.cast_columns({\n",
    "    \"0\": \"double\"\n",
    "})\n",
    "casted.read_all()"
   ]
  },
  {
   "cell_type": "code",
   "execution_count": null,
   "id": "49b5f0d2-9705-4a19-b7c5-3e4d10c6770e",
   "metadata": {},
   "outputs": [],
   "source": []
  }
 ],
 "metadata": {
  "kernelspec": {
   "display_name": "Python 3 (ipykernel)",
   "language": "python",
   "name": "python3"
  },
  "language_info": {
   "codemirror_mode": {
    "name": "ipython",
    "version": 3
   },
   "file_extension": ".py",
   "mimetype": "text/x-python",
   "name": "python",
   "nbconvert_exporter": "python",
   "pygments_lexer": "ipython3",
   "version": "3.9.12"
  }
 },
 "nbformat": 4,
 "nbformat_minor": 5
}
